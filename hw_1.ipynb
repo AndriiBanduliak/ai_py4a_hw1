{
  "nbformat": 4,
  "nbformat_minor": 0,
  "metadata": {
    "colab": {
      "provenance": []
    },
    "kernelspec": {
      "name": "python3",
      "display_name": "Python 3"
    },
    "language_info": {
      "name": "python"
    }
  },
  "cells": [
    {
      "cell_type": "markdown",
      "source": [
        "# Условие 1: \n",
        "## На складе лежат разные фрукты в разном количестве.\n",
        "* Нужно написать функцию, которая на вход принимает любое количество названий фруктов и их количество, а возвращает общее количество фруктов на складе \n"
      ],
      "metadata": {
        "id": "rGb5A8uVbtqu"
      }
    },
    {
      "cell_type": "code",
      "execution_count": 2,
      "metadata": {
        "colab": {
          "base_uri": "https://localhost:8080/"
        },
        "id": "5hYSgd6ebo1Y",
        "outputId": "2b945a06-6df4-4951-d5fa-4cb0f0526a63"
      },
      "outputs": [
        {
          "output_type": "stream",
          "name": "stdout",
          "text": [
            "всего продуктов было куплено: 60\n"
          ]
        }
      ],
      "source": [
        "def count_fruits(**fruits):\n",
        "    total = 0\n",
        "    for count in fruits.values():\n",
        "        total += count\n",
        "    return total\n",
        "#  for example:\n",
        "print(f\"всего продуктов было куплено: {count_fruits(apples=10, bananas=20, oranges=30)}\")\n",
        "\n"
      ]
    },
    {
      "cell_type": "markdown",
      "source": [
        "# Условие 2:\n",
        "## Дан список с затратами на рекламу. Но в данных есть ошибки, некоторые затраты имеют отрицательную величину. \n",
        "* Удалите такие значения из списка и посчитайте суммарные затраты [100, 125, -90, 345, 655, -1, 0, 200] \n",
        "* Используйте list comprehensions"
      ],
      "metadata": {
        "id": "GlhUhFa_bsP1"
      }
    },
    {
      "cell_type": "code",
      "source": [
        "expenses = [100, 125, -90, 345, 655, -1, 0, 200]\n",
        "expenses = [x for x in expenses if x >= 0]\n",
        "total_expenses = sum(expenses)\n",
        "print(f\" сумманые затраты: {total_expenses}\")\n"
      ],
      "metadata": {
        "colab": {
          "base_uri": "https://localhost:8080/"
        },
        "id": "_dS1-Dt0cyVO",
        "outputId": "01963c5e-758f-4eef-8beb-8191ecb2bcd4"
      },
      "execution_count": 4,
      "outputs": [
        {
          "output_type": "stream",
          "name": "stdout",
          "text": [
            " сумманые затраты: 1425\n"
          ]
        }
      ]
    },
    {
      "cell_type": "markdown",
      "source": [
        "# Условие 3:\n",
        "## Даны два списка.\n",
        "* Дата покупки\n",
        "['2021-09-14', '2021-12-15', '2021-09-08', '2021-12-05', '2021-10-09', '2021-09-30', '2021-12-22', '2021-11-29', '2021-12-24', '2021-11-26', '2021-10-27', '2021-12-18', '2021-11-09', '2021-11-23', '2021-09-27', '2021-10-02', '2021-12-27', '2021-09-20', '2021-12-13', '2021-11-01', '2021-11-09', '2021-12-06', '2021-12-08', '2021-10-09', '2021-10-31', '2021-09-30', '2021-11-09', '2021-12-13', '2021-10-26', '2021-12-09']\n",
        "* Суммы покупок по датам\n",
        "[1270, 8413, 9028, 3703, 5739, 4095, 295, 4944, 5723, 3701, 4471, 651, 7037, 4274, 6275, 4988, 6930, 2971, 6592, 2004, 2822, 519, 3406, 2732, 5015, 2008, 316, 6333, 5700, 2887]\n",
        "### 3.1 Найдите, какая выручка у компании в ноябре\n",
        "* Используйте list comprehensions\n",
        "### 3.2 Найдите выручку компании в зависимости от месяца\n",
        "* Для этого напишите функцию, которая на вход принимает список с датами и список с выручкой, а на выходе словарь, где ключи - это месяцы, а значения - это выручка.\n",
        "** Используйте аннотирование типов"
      ],
      "metadata": {
        "id": "BEpiOYM6dYff"
      }
    },
    {
      "cell_type": "code",
      "source": [
        "dates = ['2021-09-14', '2021-12-15', '2021-09-08', '2021-12-05', '2021-10-09', '2021-09-30', '2021-12-22', '2021-11-29', '2021-12-24', '2021-11-26', '2021-10-27', '2021-12-18', '2021-11-09', '2021-11-23', '2021-09-27', '2021-10-02', '2021-12-27', '2021-09-20', '2021-12-13', '2021-11-01', '2021-11-09', '2021-12-06', '2021-12-08', '2021-10-09', '2021-10-31', '2021-09-30', '2021-11-09', '2021-12-13', '2021-10-26', '2021-12-09']\n",
        "sales = [1270, 8413, 9028, 3703, 5739, 4095, 295, 4944, 5723, 3701, 4471, 651, 7037, 4274, 6275, 4988, 6930, 2971, 6592, 2004, 2822, 519, 3406, 2732, 5015, 2008, 316, 6333, 5700, 2887]\n",
        "\n",
        "nov_sales = sum([sales[i] for i in range(len(dates)) if dates[i].split('-')[1] == '11'])\n",
        "print(f\"Cумма выручки за ноябрь составляет: {nov_sales}\")\n"
      ],
      "metadata": {
        "colab": {
          "base_uri": "https://localhost:8080/"
        },
        "id": "4w7C79iHd4hk",
        "outputId": "eb98b948-2ca9-43f5-c4d5-02853b27bb46"
      },
      "execution_count": 9,
      "outputs": [
        {
          "output_type": "stream",
          "name": "stdout",
          "text": [
            "Cумма выручки за ноябрь составляет: 25098\n"
          ]
        }
      ]
    },
    {
      "cell_type": "code",
      "source": [
        "from typing import List, Dict\n",
        "\n",
        "def sales_by_month(dates: List[str], sales: List[int]) -> Dict[str, int]:\n",
        "    result = {}\n",
        "    for i in range(len(dates)):\n",
        "        month = dates[i].split('-')[1]\n",
        "        if month in result:\n",
        "            result[month] += sales[i]\n",
        "        else:\n",
        "            result[month] = sales[i]\n",
        "    return result\n",
        "\n",
        "sales_dict = sales_by_month(dates, sales)\n",
        "print(sales_dict)\n"
      ],
      "metadata": {
        "colab": {
          "base_uri": "https://localhost:8080/"
        },
        "id": "pOIhJlTbe1B3",
        "outputId": "138f2dd4-97a7-4999-c109-6b45457e481e"
      },
      "execution_count": 10,
      "outputs": [
        {
          "output_type": "stream",
          "name": "stdout",
          "text": [
            "{'09': 25647, '12': 45452, '10': 28645, '11': 25098}\n"
          ]
        }
      ]
    },
    {
      "cell_type": "code",
      "source": [
        "from datetime import datetime\n",
        "\n",
        "def revenue_by_month(dates: List[str], revenue: List[int]) -> Dict[str, int]:\n",
        "    revenue_by_month = {}\n",
        "    for i in range(len(dates)):\n",
        "        date = datetime.strptime(dates[i], '%Y-%m-%d')\n",
        "        month = date.strftime('%m')\n",
        "        if month in revenue_by_month:\n",
        "            revenue_by_month[month] += revenue[i]\n",
        "        else:\n",
        "            revenue_by_month[month] = revenue[i]\n",
        "    return revenue_by_month\n",
        "\n",
        "sales_dict = sales_by_month(dates, sales)\n",
        "print(sales_dict)\n",
        "\n"
      ],
      "metadata": {
        "colab": {
          "base_uri": "https://localhost:8080/"
        },
        "id": "to_bPfm6fR_5",
        "outputId": "23f6f1ae-f4c4-4bdc-8a85-1671d94fee16"
      },
      "execution_count": 12,
      "outputs": [
        {
          "output_type": "stream",
          "name": "stdout",
          "text": [
            "{'09': 25647, '12': 45452, '10': 28645, '11': 25098}\n"
          ]
        }
      ]
    }
  ]
}